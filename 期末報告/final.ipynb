{
  "nbformat": 4,
  "nbformat_minor": 0,
  "metadata": {
    "colab": {
      "provenance": []
    },
    "kernelspec": {
      "name": "python3",
      "display_name": "Python 3"
    },
    "language_info": {
      "name": "python"
    }
  },
  "cells": [
    {
      "cell_type": "code",
      "execution_count": null,
      "metadata": {
        "id": "D2RTYiXhD6m5"
      },
      "outputs": [],
      "source": [
        "from selenium import webdriver\n",
        "from selenium.webdriver.chrome.options import Options\n",
        "from selenium.webdriver.chrome.service import Service\n",
        "from selenium.webdriver.support import expected_conditions as EC\n",
        "from selenium.webdriver.support.ui import WebDriverWait\n",
        "from selenium.webdriver.common.by import By\n",
        "from fake_useragent import UserAgent\n",
        "import random\n",
        "#import string\n",
        "import time\n"
      ]
    },
    {
      "cell_type": "code",
      "source": [
        "options = Options()\n",
        "\n",
        "ua = UserAgent()\n",
        "userAgent = ua.random\n",
        "\n",
        "options.add_argument(f'user-agent={userAgent}')\n",
        "options.add_argument('--headless')  # 非本機執行，必須啟動Headless模式\n",
        "options.add_argument('--disable-gpu') # 關閉GPU 避免某些系統或是網頁出錯\n",
        "\n",
        "service = Service()\n",
        "driver = webdriver.Chrome(service=service, options=options)\n",
        "url = 'http://120.105.96.87/register.html'\n",
        "driver.get(url)"
      ],
      "metadata": {
        "colab": {
          "base_uri": "https://localhost:8080/",
          "height": 237
        },
        "id": "DQazaf1wD-on",
        "outputId": "8e06e637-6c9b-4af3-80f9-0233a14f05ea"
      },
      "execution_count": null,
      "outputs": [
        {
          "output_type": "error",
          "ename": "NameError",
          "evalue": "ignored",
          "traceback": [
            "\u001b[0;31m---------------------------------------------------------------------------\u001b[0m",
            "\u001b[0;31mNameError\u001b[0m                                 Traceback (most recent call last)",
            "\u001b[0;32m<ipython-input-4-b23f9389833c>\u001b[0m in \u001b[0;36m<cell line: 1>\u001b[0;34m()\u001b[0m\n\u001b[0;32m----> 1\u001b[0;31m \u001b[0moptions\u001b[0m \u001b[0;34m=\u001b[0m \u001b[0mOptions\u001b[0m\u001b[0;34m(\u001b[0m\u001b[0;34m)\u001b[0m\u001b[0;34m\u001b[0m\u001b[0;34m\u001b[0m\u001b[0m\n\u001b[0m\u001b[1;32m      2\u001b[0m \u001b[0;34m\u001b[0m\u001b[0m\n\u001b[1;32m      3\u001b[0m \u001b[0mua\u001b[0m \u001b[0;34m=\u001b[0m \u001b[0mUserAgent\u001b[0m\u001b[0;34m(\u001b[0m\u001b[0;34m)\u001b[0m\u001b[0;34m\u001b[0m\u001b[0;34m\u001b[0m\u001b[0m\n\u001b[1;32m      4\u001b[0m \u001b[0muserAgent\u001b[0m \u001b[0;34m=\u001b[0m \u001b[0mua\u001b[0m\u001b[0;34m.\u001b[0m\u001b[0mrandom\u001b[0m\u001b[0;34m\u001b[0m\u001b[0;34m\u001b[0m\u001b[0m\n\u001b[1;32m      5\u001b[0m \u001b[0;34m\u001b[0m\u001b[0m\n",
            "\u001b[0;31mNameError\u001b[0m: name 'Options' is not defined"
          ]
        }
      ]
    },
    {
      "cell_type": "code",
      "source": [
        "myid = driver.find_element(By.NAME, \"id\")\n",
        "myid.clear()\n",
        "myid.send_keys(\"shhuang\") # 請輸入你的學號\n",
        "\n",
        "myemail = driver.find_element(By.NAME, \"email\")\n",
        "myemail.clear()\n",
        "myemail.send_keys(\"shhuang@must.edu.tw\") # 請輸入你的email\n",
        "\n",
        "passwd = driver.find_element(By.NAME, \"pwd\")\n",
        "passwd.clear()\n",
        "passwd.send_keys(\"shhuang\")  # 請輸入你要設定的登入密碼\n",
        "\n",
        "driver.get_screenshot_as_file('data1.png') # 註冊畫面\n",
        "mysubmit = WebDriverWait(driver, 5).until(EC.presence_of_element_located((By.NAME, \"submit\")))\n",
        "mysubmit.submit()\n",
        "time.sleep(1)\n",
        "driver.get_screenshot_as_file('data2.png') # 註冊結果畫面\n",
        "driver.close()"
      ],
      "metadata": {
        "colab": {
          "base_uri": "https://localhost:8080/",
          "height": 237
        },
        "id": "hHzOLmhgEEIf",
        "outputId": "229d27bd-aaf8-45bb-eed7-a8628883f4b8"
      },
      "execution_count": null,
      "outputs": [
        {
          "output_type": "error",
          "ename": "NameError",
          "evalue": "ignored",
          "traceback": [
            "\u001b[0;31m---------------------------------------------------------------------------\u001b[0m",
            "\u001b[0;31mNameError\u001b[0m                                 Traceback (most recent call last)",
            "\u001b[0;32m<ipython-input-5-4f8ef1bdeaee>\u001b[0m in \u001b[0;36m<cell line: 1>\u001b[0;34m()\u001b[0m\n\u001b[0;32m----> 1\u001b[0;31m \u001b[0mmyid\u001b[0m \u001b[0;34m=\u001b[0m \u001b[0mdriver\u001b[0m\u001b[0;34m.\u001b[0m\u001b[0mfind_element\u001b[0m\u001b[0;34m(\u001b[0m\u001b[0mBy\u001b[0m\u001b[0;34m.\u001b[0m\u001b[0mNAME\u001b[0m\u001b[0;34m,\u001b[0m \u001b[0;34m\"id\"\u001b[0m\u001b[0;34m)\u001b[0m\u001b[0;34m\u001b[0m\u001b[0;34m\u001b[0m\u001b[0m\n\u001b[0m\u001b[1;32m      2\u001b[0m \u001b[0mmyid\u001b[0m\u001b[0;34m.\u001b[0m\u001b[0mclear\u001b[0m\u001b[0;34m(\u001b[0m\u001b[0;34m)\u001b[0m\u001b[0;34m\u001b[0m\u001b[0;34m\u001b[0m\u001b[0m\n\u001b[1;32m      3\u001b[0m \u001b[0mmyid\u001b[0m\u001b[0;34m.\u001b[0m\u001b[0msend_keys\u001b[0m\u001b[0;34m(\u001b[0m\u001b[0;34m\"shhuang\"\u001b[0m\u001b[0;34m)\u001b[0m \u001b[0;31m# 請輸入你的學號\u001b[0m\u001b[0;34m\u001b[0m\u001b[0;34m\u001b[0m\u001b[0m\n\u001b[1;32m      4\u001b[0m \u001b[0;34m\u001b[0m\u001b[0m\n\u001b[1;32m      5\u001b[0m \u001b[0mmyemail\u001b[0m \u001b[0;34m=\u001b[0m \u001b[0mdriver\u001b[0m\u001b[0;34m.\u001b[0m\u001b[0mfind_element\u001b[0m\u001b[0;34m(\u001b[0m\u001b[0mBy\u001b[0m\u001b[0;34m.\u001b[0m\u001b[0mNAME\u001b[0m\u001b[0;34m,\u001b[0m \u001b[0;34m\"email\"\u001b[0m\u001b[0;34m)\u001b[0m\u001b[0;34m\u001b[0m\u001b[0;34m\u001b[0m\u001b[0m\n",
            "\u001b[0;31mNameError\u001b[0m: name 'driver' is not defined"
          ]
        }
      ]
    },
    {
      "cell_type": "code",
      "source": [
        "service1 = Service()\n",
        "driver1 = webdriver.Chrome(service=service1, options=options)\n",
        "url = 'http://120.105.96.87/index.html'\n",
        "driver1.get(url)\n",
        "myid = driver1.find_element(By.NAME, \"id\")\n",
        "myid.clear()\n",
        "myid.send_keys(\"shhuang\") # 請輸入你的學號\n",
        "passwd = driver1.find_element(By.NAME, \"pwd\")\n",
        "passwd.clear()\n",
        "passwd.send_keys(\"shhuang\")  # 請輸入你設定的登入密碼\n",
        "driver1.get_screenshot_as_file('data3.png') # 登入畫面\n",
        "mysubmit = WebDriverWait(driver1, 5).until(EC.presence_of_element_located((By.NAME, \"submit\")))\n",
        "mysubmit.submit()\n",
        "time.sleep(1)\n",
        "driver1.get_screenshot_as_file('data4.png') # 登入結果畫面\n",
        "driver1.close()"
      ],
      "metadata": {
        "id": "bCADdtkAEVIX"
      },
      "execution_count": null,
      "outputs": []
    }
  ]
}